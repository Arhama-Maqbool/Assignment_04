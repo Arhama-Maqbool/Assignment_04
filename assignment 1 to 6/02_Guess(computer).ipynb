{
 "cells": [
  {
   "cell_type": "code",
   "execution_count": null,
   "id": "902adf72",
   "metadata": {},
   "outputs": [
    {
     "name": "stdout",
     "output_type": "stream",
     "text": [
      "Welcome to the Madlib Game!\n",
      "Okay, maybe next time!\n",
      "\n",
      "Okay, let's play the game!\n",
      "\n",
      "\n",
      "One day,  and their two best friends,  and , decided to go on an adventure to . It was a  day, with the sun shining brightly in the sky.\n",
      "\n",
      "As they arrived, they noticed something  in the distance. Curious, they walked  towards it, only to realize it was a hidden treasure chest! \"!\" they all shouted in excitement.\n",
      "\n",
      "Just as they were about to open it, a  gust of wind blew, and suddenly, the ground started shaking . Was it a trap? Or was it magic? They looked at each other, unsure of what to do next.\n",
      "\n"
     ]
    },
    {
     "ename": "",
     "evalue": "",
     "output_type": "error",
     "traceback": [
      "\u001b[1;31mThe Kernel crashed while executing code in the current cell or a previous cell. \n",
      "\u001b[1;31mPlease review the code in the cell(s) to identify a possible cause of the failure. \n",
      "\u001b[1;31mClick <a href='https://aka.ms/vscodeJupyterKernelCrash'>here</a> for more info. \n",
      "\u001b[1;31mView Jupyter <a href='command:jupyter.viewOutput'>log</a> for further details."
     ]
    }
   ],
   "source": [
    "from random import randint\n",
    "\n",
    "print(\"Welcome to the Madlib Game!\")\n",
    "playing = input(\"Let's play, shall we? (Yes/No): \").strip()\n",
    "\n",
    "if playing.lower() not in [\"yes\", \"y\"]:\n",
    "    print(\"Okay, maybe next time!\")\n",
    "    quit()\n",
    "\n",
    "print(\"\\nOkay, let's play the game!\\n\")\n",
    "\n",
    "# Getting user input\n",
    "noun1 = input(\"Enter your Name: \")\n",
    "noun2 = input(\"Enter your Friend's Name: \")\n",
    "noun3 = input(\"Enter another Friend's Name: \")\n",
    "place = input(\"Enter a place name: \")\n",
    "adjective1 = input(\"Enter an Adjective: \")\n",
    "adjective2 = input(\"Enter another Adjective: \")\n",
    "adjective3 = input(\"Enter one more Adjective: \")\n",
    "adverb1 = input(\"Enter an Adverb: \")\n",
    "adverb2 = input(\"Enter another Adverb: \")\n",
    "exclamation = input(\"Enter an Emotion: \")\n",
    "\n",
    "# Print story using f-strings\n",
    "story = f\"\"\"\n",
    "One day, {noun1} and their two best friends, {noun2} and {noun3}, decided to go on an adventure to {place}. It was a {adjective1} day, with the sun shining brightly in the sky.\n",
    "\n",
    "As they arrived, they noticed something {adjective2} in the distance. Curious, they walked {adverb1} towards it, only to realize it was a hidden treasure chest! \"{exclamation}!\" they all shouted in excitement.\n",
    "\n",
    "Just as they were about to open it, a {adjective3} gust of wind blew, and suddenly, the ground started shaking {adverb2}. Was it a trap? Or was it magic? They looked at each other, unsure of what to do next.\n",
    "\"\"\"\n",
    "\n",
    "print(story)\n",
    "\n"
   ]
  }
 ],
 "metadata": {
  "kernelspec": {
   "display_name": "Python 3",
   "language": "python",
   "name": "python3"
  },
  "language_info": {
   "codemirror_mode": {
    "name": "ipython",
    "version": 3
   },
   "file_extension": ".py",
   "mimetype": "text/x-python",
   "name": "python",
   "nbconvert_exporter": "python",
   "pygments_lexer": "ipython3",
   "version": "3.13.2"
  }
 },
 "nbformat": 4,
 "nbformat_minor": 5
}
