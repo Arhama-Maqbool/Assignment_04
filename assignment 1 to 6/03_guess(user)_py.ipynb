{
 "cells": [
  {
   "cell_type": "code",
   "execution_count": null,
   "id": "49eaf758",
   "metadata": {},
   "outputs": [
    {
     "name": "stdout",
     "output_type": "stream",
     "text": [
      "\n",
      "🎉 Welcome to the Number Guessing Game! 🎉\n",
      "\n",
      "\n",
      "Too Low! Try Again\n"
     ]
    }
   ],
   "source": [
    "import random\n",
    "\n",
    "\n",
    "print(\"\\n🎉 Welcome to the Number Guessing Game! 🎉\\n\")\n",
    "\n",
    "# generate a random number between 1 to 50\n",
    "secret_number = random.randint(1,50)\n",
    "\n",
    "# Ask the playes\n",
    "attempts = 0\n",
    "while True:\n",
    "    guess= int(input(\"\\nEnter Your Number: \"))\n",
    "    attempts += 1\n",
    "\n",
    "    if guess < secret_number:\n",
    "        print(\"\\nToo Low! Try Again\")\n",
    "\n",
    "    elif guess > secret_number:\n",
    "        print(\"\\nToo High! Try Again\\n\")\n",
    "    else:\n",
    "         print(f\" \\nYes {secret_number} was correct!\\n🎉 Congratulations! You guessed it in {attempts} attempts.\")\n",
    "         break"
   ]
  }
 ],
 "metadata": {
  "kernelspec": {
   "display_name": "Python 3",
   "language": "python",
   "name": "python3"
  },
  "language_info": {
   "codemirror_mode": {
    "name": "ipython",
    "version": 3
   },
   "file_extension": ".py",
   "mimetype": "text/x-python",
   "name": "python",
   "nbconvert_exporter": "python",
   "pygments_lexer": "ipython3",
   "version": "3.13.2"
  }
 },
 "nbformat": 4,
 "nbformat_minor": 5
}
