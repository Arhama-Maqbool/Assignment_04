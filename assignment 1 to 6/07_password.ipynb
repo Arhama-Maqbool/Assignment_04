{
 "cells": [
  {
   "cell_type": "code",
   "execution_count": null,
   "id": "f364bf33",
   "metadata": {},
   "outputs": [],
   "source": [
    "import random\n",
    "import string\n",
    "\n",
    "if __name__ == \"__main__\":\n",
    "    s1 = string.ascii_lowercase\n",
    "    s2 = string.ascii_uppercase\n",
    "    s3 = string.digits\n",
    "    s4 = string.punctuation\n",
    "\n",
    "    # Asking user for password length\n",
    "    while True:\n",
    "        try:\n",
    "            passwordLen = int(input(\"\\n🔐 Enter desired password length : \"))\n",
    "            if 6 <= passwordLen <= 12:\n",
    "                break\n",
    "            else:\n",
    "                print(\"\\n⚠️ Password length must be between 6 and 12!\")\n",
    "        except ValueError:\n",
    "            print(\"\\n❌ Invalid input! Please enter a number between 6 and 12.\")\n",
    "\n",
    "    # Create character pool\n",
    "    s = list(s1 + s2 + s3 + s4)\n",
    "    random.shuffle(s)\n",
    "\n",
    "    # Generate password\n",
    "    password = \"\".join(s[:passwordLen])\n",
    "    print(f\"\\n✅ Your Secure Password: {password}\")"
   ]
  }
 ],
 "metadata": {
  "language_info": {
   "name": "python"
  }
 },
 "nbformat": 4,
 "nbformat_minor": 5
}
