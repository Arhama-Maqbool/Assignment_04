{
 "cells": [
  {
   "cell_type": "code",
   "execution_count": null,
   "id": "1c6784a2",
   "metadata": {
    "vscode": {
     "languageId": "plaintext"
    }
   },
   "outputs": [],
   "source": [
    "import random\n",
    "\n",
    "print(\"\\nWelcome to Rock-Paper-Scissors! ✊✋✌️\")\n",
    "\n",
    "choices = [\"Rock ✊\", \"Paper ✋\", \"Scissors ✌️\"]\n",
    "\n",
    "while True:  # Keep asking until a valid input is received\n",
    "    try:\n",
    "        user_choice = int(input(\"\\nEnter your choice:\\n0 for Rock ✊, 1 for Paper ✋, 2 for Scissors ✌️\\nYour choice: \"))\n",
    "\n",
    "        if user_choice not in [0, 1, 2]:\n",
    "            print(\"❌ Invalid choice! Please enter 0, 1, or 2.\")\n",
    "            continue  # Ask again if input is invalid\n",
    "\n",
    "        break  # Exit loop when valid input is given\n",
    "\n",
    "    except ValueError:\n",
    "        print(\"❌ Invalid input! Please enter a number (0, 1, or 2).\")\n",
    "\n",
    "# Computer's choice\n",
    "computer_choice = random.randint(0, 2)\n",
    "\n",
    "print(f\"\\nYou chose: {choices[user_choice]}\")\n",
    "print(f\"Computer chose: {choices[computer_choice]}\\n\")\n",
    "\n",
    "# Determine the winner\n",
    "if user_choice == computer_choice:\n",
    "    print(\"It's a draw! 🤝\")\n",
    "elif (user_choice == 0 and computer_choice == 2) or \\\n",
    "     (user_choice == 1 and computer_choice == 0) or \\\n",
    "     (user_choice == 2 and computer_choice == 1):\n",
    "    print(\"✅ You win! 🎉\")\n",
    "else:\n",
    "    print(\"❌ You lose! 😢\")"
   ]
  }
 ],
 "metadata": {
  "language_info": {
   "name": "python"
  }
 },
 "nbformat": 4,
 "nbformat_minor": 5
}
